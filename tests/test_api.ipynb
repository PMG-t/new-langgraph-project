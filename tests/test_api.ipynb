{
 "cells": [
  {
   "cell_type": "code",
   "execution_count": 9,
   "metadata": {},
   "outputs": [],
   "source": [
    "import asyncio\n",
    "from langgraph_sdk import get_client"
   ]
  },
  {
   "cell_type": "code",
   "execution_count": 5,
   "metadata": {},
   "outputs": [],
   "source": [
    "client = get_client(url=\"http://localhost:2024\")"
   ]
  },
  {
   "cell_type": "code",
   "execution_count": 21,
   "metadata": {},
   "outputs": [
    {
     "name": "stdout",
     "output_type": "stream",
     "text": [
      "Receiving new event of type: metadata...\n",
      "{'run_id': '1f00b35d-4b0e-63ba-a80a-4d5d2ec6167d', 'attempt': 1}\n",
      "\n",
      "\n",
      "\n",
      "Receiving new event of type: updates...\n",
      "{'chatbot': {'messages': [{'content': '', 'additional_kwargs': {'tool_calls': [{'id': 'call_imp0qE9UTNwMgPPaE7GGfo1y', 'function': {'arguments': '{\"region\":\"Georgia\"}', 'name': 'spi_notebook_creation'}, 'type': 'function'}], 'refusal': None}, 'response_metadata': {'token_usage': {'completion_tokens': 17, 'prompt_tokens': 442, 'total_tokens': 459, 'completion_tokens_details': {'accepted_prediction_tokens': 0, 'audio_tokens': 0, 'reasoning_tokens': 0, 'rejected_prediction_tokens': 0}, 'prompt_tokens_details': {'audio_tokens': 0, 'cached_tokens': 0}}, 'model_name': 'gpt-4o-mini-2024-07-18', 'system_fingerprint': 'fp_b376dfbbd5', 'finish_reason': 'tool_calls', 'logprobs': None}, 'type': 'ai', 'name': None, 'id': 'run-c4907f91-db45-43fc-bfaf-5a4f10fbbedf-0', 'example': False, 'tool_calls': [{'name': 'spi_notebook_creation', 'args': {'region': 'Georgia'}, 'id': 'call_imp0qE9UTNwMgPPaE7GGfo1y', 'type': 'tool_call'}], 'invalid_tool_calls': [], 'usage_metadata': {'input_tokens': 442, 'output_tokens': 17, 'total_tokens': 459, 'input_token_details': {'audio': 0, 'cache_read': 0}, 'output_token_details': {'audio': 0, 'reasoning': 0}}}]}}\n",
      "\n",
      "\n",
      "\n",
      "Receiving new event of type: updates...\n",
      "{'spi_notebook_creation_tool_validator': {'messages': [{'content': '', 'additional_kwargs': {}, 'response_metadata': {}, 'type': 'remove', 'name': None, 'id': 'run-c4907f91-db45-43fc-bfaf-5a4f10fbbedf-0'}, {'role': 'system', 'content': \"\\n            L'utente a rihiesto di eseguire il tool spi_notebook_creation con  questi argomenti:\\n            - region: Georgia\\n            - reference_period: NULL\\n            - period_of_interest: NULL\\n            Non ha specificato il periodo di riferimento. Chiedigli se vuole usare l'intervallo 1980-2010 di deafult oppure preferisce specificarlo.\\n        \"}]}}\n",
      "\n",
      "\n",
      "\n",
      "Receiving new event of type: updates...\n",
      "{'chatbot': {'messages': [{'content': 'Vuoi utilizzare il periodo di riferimento predefinito dal 1980 al 2010, oppure preferisci specificarne uno diverso per il calcolo dello SPI in Georgia?', 'additional_kwargs': {'refusal': None}, 'response_metadata': {'token_usage': {'completion_tokens': 38, 'prompt_tokens': 529, 'total_tokens': 567, 'completion_tokens_details': {'accepted_prediction_tokens': 0, 'audio_tokens': 0, 'reasoning_tokens': 0, 'rejected_prediction_tokens': 0}, 'prompt_tokens_details': {'audio_tokens': 0, 'cached_tokens': 0}}, 'model_name': 'gpt-4o-mini-2024-07-18', 'system_fingerprint': 'fp_b376dfbbd5', 'finish_reason': 'stop', 'logprobs': None}, 'type': 'ai', 'name': None, 'id': 'run-9b867a58-4fe9-4963-a891-ea39cc298b26-0', 'example': False, 'tool_calls': [], 'invalid_tool_calls': [], 'usage_metadata': {'input_tokens': 529, 'output_tokens': 38, 'total_tokens': 567, 'input_token_details': {'audio': 0, 'cache_read': 0}, 'output_token_details': {'audio': 0, 'reasoning': 0}}}]}}\n",
      "\n",
      "\n",
      "\n"
     ]
    }
   ],
   "source": [
    "async for chunk in client.runs.stream(\n",
    "    None,  # Threadless run\n",
    "    \"agent\", # Name of assistant. Defined in langgraph.json.\n",
    "    input={\n",
    "        \"messages\": [{\n",
    "            \"role\": \"human\",\n",
    "            \"content\": \"Facciamo lo spi per la georgia?\",\n",
    "        }],\n",
    "    },\n",
    "    stream_mode=\"updates\",\n",
    "):\n",
    "    print(f\"Receiving new event of type: {chunk.event}...\")\n",
    "    print(chunk.data)\n",
    "    print(\"\\n\\n\")"
   ]
  },
  {
   "cell_type": "code",
   "execution_count": 20,
   "metadata": {},
   "outputs": [
    {
     "data": {
      "text/plain": [
       "'Ciao! Posso aiutarti in diversi modi, tra cui:\\n\\n1. **Rispondere a domande**: Posso fornirti informazioni su vari argomenti.\\n2. **Assistenza con dati**: Posso recuperare dati meteorologici, come informazioni sulle precipitazioni.\\n3. **Calcolo degli indici climatici**: Posso aiutarti a calcolare il Standardized Precipitation Index (SPI) per diverse regioni.\\n4. **Supporto nella programmazione**: Posso assisterti nella scrittura e modifica di codice, specialmente in Python.\\n5. **Scrittura di testi**: Posso aiutarti a scrivere articoli, racconti, o anche semplici messaggi.\\n\\nSe hai bisogno di qualcosa in particolare, fammi sapere!'"
      ]
     },
     "execution_count": 20,
     "metadata": {},
     "output_type": "execute_result"
    }
   ],
   "source": [
    "chunk.data['chatbot']['messages'][0]['content']"
   ]
  }
 ],
 "metadata": {
  "kernelspec": {
   "display_name": "venv",
   "language": "python",
   "name": "python3"
  },
  "language_info": {
   "codemirror_mode": {
    "name": "ipython",
    "version": 3
   },
   "file_extension": ".py",
   "mimetype": "text/x-python",
   "name": "python",
   "nbconvert_exporter": "python",
   "pygments_lexer": "ipython3",
   "version": "3.11.0"
  }
 },
 "nbformat": 4,
 "nbformat_minor": 2
}
