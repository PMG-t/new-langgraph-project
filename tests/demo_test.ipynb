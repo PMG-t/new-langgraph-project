{
 "cells": [
  {
   "cell_type": "code",
   "execution_count": 1,
   "metadata": {},
   "outputs": [],
   "source": [
    "# from agent.nodes.subgraphs.cds_ingestor import llm_with_cds_tools\n",
    "from agent.nodes.subgraphs.cds_ingestor import cds_temperature\n",
    "from agent.tools import spi_notebook_creation\n",
    "from agent import utils\n",
    "from langchain_core.messages import AIMessage, HumanMessage,SystemMessage\n",
    "from langchain_openai import ChatOpenAI\n",
    "from langchain_core.tools import tool\n",
    "from agent import utils\n",
    "from agent.nodes.subgraphs.cds_ingestor import llm_with_cds_tools"
   ]
  },
  {
   "cell_type": "code",
   "execution_count": 10,
   "metadata": {},
   "outputs": [
    {
     "data": {
      "text/plain": [
       "False"
      ]
     },
     "execution_count": 10,
     "metadata": {},
     "output_type": "execute_result"
    }
   ],
   "source": [
    "x = llm_with_cds_tools.invoke(\n",
    "    [\n",
    "        HumanMessage(content='hi what can you do', additional_kwargs={}, response_metadata={}, id='8daf464c-563f-4e1a-81bf-653d0fe20168'),\n",
    "        AIMessage(content='Hello! I am a MultiAgent AI designed to assist with climate data extraction tasks, particularly for the I-CISK Project. Here’s what I can do:\\n\\n1. **Standardized Precipitation Index (SPI) Calculation**: I can help create a Jupyter notebook that calculates the SPI index for any geographic region you specify, over a defined period of interest.\\n\\n2. **Temperature Data**: I can assist you in getting and using temperature data from the Climate Data Store (CDS) by building a Jupyter notebook that utilizes the available APIs.\\n\\nIf you need help with any of these tasks or have specific requirements, feel free to ask!', additional_kwargs={}, response_metadata={'finish_reason': 'stop', 'model_name': 'gpt-4o-mini-2024-07-18', 'system_fingerprint': 'fp_b376dfbbd5'}, id='run-667d0896-9651-4bba-a821-79a19f0f77eb'), \n",
    "        HumanMessage(content='who developed you', additional_kwargs={}, response_metadata={}, id='97737378-c40a-44f1-83e7-1481d748f6d9'),\n",
    "        SystemMessage(content='the users make this request: \"who developed you\". Run required tool if needed')\n",
    "    ]  \n",
    ")\n",
    "\n",
    "hasattr(x, 'tool_calls') and len(x.tool_calls) > 0"
   ]
  },
  {
   "cell_type": "code",
   "execution_count": 16,
   "metadata": {},
   "outputs": [
    {
     "data": {
      "text/plain": [
       "True"
      ]
     },
     "execution_count": 16,
     "metadata": {},
     "output_type": "execute_result"
    }
   ],
   "source": [
    "hasattr(x, 'tool_calls') and len(x.tool_calls) > 0"
   ]
  },
  {
   "cell_type": "code",
   "execution_count": 11,
   "metadata": {},
   "outputs": [
    {
     "data": {
      "text/plain": [
       "'To assist you better with the CDS_TEMPERATURE tool, I need you to specify a location for the temperature data you are interested in. Please provide a bounding box with the following four parameters:\\n\\n1. Minimum longitude\\n2. Minimum latitude\\n3. Maximum longitude\\n4. Maximum latitude\\n\\nAlternatively, if you are unsure about the coordinates or how to specify them, you can let me know, and I can help guide you through the process! Would you like to provide the coordinates or prefer to exit this tool?'"
      ]
     },
     "execution_count": 11,
     "metadata": {},
     "output_type": "execute_result"
    }
   ],
   "source": [
    "invalid_location_message = \"no man, i want to restart\"\n",
    "\n",
    "x = utils.ask_llm(\n",
    "    role = 'system',\n",
    "    message = f\"\"\"When asked to enter a location for CDS_TEMPERATURE tool, the user responded with \"which crs?\" and it was not possible to obtain a valid bounding box for it. \n",
    "    Provide more information to user if he has requested or ask the user to try to specify the location of interest better or if he prefers to exit this tool.\n",
    "    \"\"\",\n",
    "    llm = llm_with_cds_tools,\n",
    "    eval_output = False\n",
    ")\n",
    "x"
   ]
  },
  {
   "cell_type": "code",
   "execution_count": 20,
   "metadata": {},
   "outputs": [
    {
     "data": {
      "text/plain": [
       "[-9.6, 35.9, 3.0, 43.8]"
      ]
     },
     "execution_count": 20,
     "metadata": {},
     "output_type": "execute_result"
    }
   ],
   "source": [
    "import ast\n",
    "ast.literal_eval('[-9.6, 35.9, 3.0, 43.8]')"
   ]
  },
  {
   "cell_type": "code",
   "execution_count": 23,
   "metadata": {},
   "outputs": [
    {
     "name": "stdout",
     "output_type": "stream",
     "text": [
      "a\n"
     ]
    }
   ],
   "source": [
    "try: 1/0\n",
    "except Exception as e: print('a')"
   ]
  },
  {
   "cell_type": "code",
   "execution_count": 22,
   "metadata": {},
   "outputs": [
    {
     "ename": "ValueError",
     "evalue": "malformed node or string on line 1: <ast.BinOp object at 0x000001F0A045CBE0>",
     "output_type": "error",
     "traceback": [
      "\u001b[31m---------------------------------------------------------------------------\u001b[39m",
      "\u001b[31mValueError\u001b[39m                                Traceback (most recent call last)",
      "\u001b[36mCell\u001b[39m\u001b[36m \u001b[39m\u001b[32mIn[22]\u001b[39m\u001b[32m, line 1\u001b[39m\n\u001b[32m----> \u001b[39m\u001b[32m1\u001b[39m \u001b[43mast\u001b[49m\u001b[43m.\u001b[49m\u001b[43mliteral_eval\u001b[49m\u001b[43m(\u001b[49m\u001b[33;43m'\u001b[39;49m\u001b[33;43m2024-10\u001b[39;49m\u001b[33;43m'\u001b[39;49m\u001b[43m)\u001b[49m\n",
      "\u001b[36mFile \u001b[39m\u001b[32mC:\\Python311\\Lib\\ast.py:108\u001b[39m, in \u001b[36mliteral_eval\u001b[39m\u001b[34m(node_or_string)\u001b[39m\n\u001b[32m    106\u001b[39m                 \u001b[38;5;28;01mreturn\u001b[39;00m left - right\n\u001b[32m    107\u001b[39m     \u001b[38;5;28;01mreturn\u001b[39;00m _convert_signed_num(node)\n\u001b[32m--> \u001b[39m\u001b[32m108\u001b[39m \u001b[38;5;28;01mreturn\u001b[39;00m \u001b[43m_convert\u001b[49m\u001b[43m(\u001b[49m\u001b[43mnode_or_string\u001b[49m\u001b[43m)\u001b[49m\n",
      "\u001b[36mFile \u001b[39m\u001b[32mC:\\Python311\\Lib\\ast.py:107\u001b[39m, in \u001b[36mliteral_eval.<locals>._convert\u001b[39m\u001b[34m(node)\u001b[39m\n\u001b[32m    105\u001b[39m         \u001b[38;5;28;01melse\u001b[39;00m:\n\u001b[32m    106\u001b[39m             \u001b[38;5;28;01mreturn\u001b[39;00m left - right\n\u001b[32m--> \u001b[39m\u001b[32m107\u001b[39m \u001b[38;5;28;01mreturn\u001b[39;00m \u001b[43m_convert_signed_num\u001b[49m\u001b[43m(\u001b[49m\u001b[43mnode\u001b[49m\u001b[43m)\u001b[49m\n",
      "\u001b[36mFile \u001b[39m\u001b[32mC:\\Python311\\Lib\\ast.py:81\u001b[39m, in \u001b[36mliteral_eval.<locals>._convert_signed_num\u001b[39m\u001b[34m(node)\u001b[39m\n\u001b[32m     79\u001b[39m     \u001b[38;5;28;01melse\u001b[39;00m:\n\u001b[32m     80\u001b[39m         \u001b[38;5;28;01mreturn\u001b[39;00m - operand\n\u001b[32m---> \u001b[39m\u001b[32m81\u001b[39m \u001b[38;5;28;01mreturn\u001b[39;00m \u001b[43m_convert_num\u001b[49m\u001b[43m(\u001b[49m\u001b[43mnode\u001b[49m\u001b[43m)\u001b[49m\n",
      "\u001b[36mFile \u001b[39m\u001b[32mC:\\Python311\\Lib\\ast.py:72\u001b[39m, in \u001b[36mliteral_eval.<locals>._convert_num\u001b[39m\u001b[34m(node)\u001b[39m\n\u001b[32m     70\u001b[39m \u001b[38;5;28;01mdef\u001b[39;00m\u001b[38;5;250m \u001b[39m\u001b[34m_convert_num\u001b[39m(node):\n\u001b[32m     71\u001b[39m     \u001b[38;5;28;01mif\u001b[39;00m \u001b[38;5;129;01mnot\u001b[39;00m \u001b[38;5;28misinstance\u001b[39m(node, Constant) \u001b[38;5;129;01mor\u001b[39;00m \u001b[38;5;28mtype\u001b[39m(node.value) \u001b[38;5;129;01mnot\u001b[39;00m \u001b[38;5;129;01min\u001b[39;00m (\u001b[38;5;28mint\u001b[39m, \u001b[38;5;28mfloat\u001b[39m, \u001b[38;5;28mcomplex\u001b[39m):\n\u001b[32m---> \u001b[39m\u001b[32m72\u001b[39m         \u001b[43m_raise_malformed_node\u001b[49m\u001b[43m(\u001b[49m\u001b[43mnode\u001b[49m\u001b[43m)\u001b[49m\n\u001b[32m     73\u001b[39m     \u001b[38;5;28;01mreturn\u001b[39;00m node.value\n",
      "\u001b[36mFile \u001b[39m\u001b[32mC:\\Python311\\Lib\\ast.py:69\u001b[39m, in \u001b[36mliteral_eval.<locals>._raise_malformed_node\u001b[39m\u001b[34m(node)\u001b[39m\n\u001b[32m     67\u001b[39m \u001b[38;5;28;01mif\u001b[39;00m lno := \u001b[38;5;28mgetattr\u001b[39m(node, \u001b[33m'\u001b[39m\u001b[33mlineno\u001b[39m\u001b[33m'\u001b[39m, \u001b[38;5;28;01mNone\u001b[39;00m):\n\u001b[32m     68\u001b[39m     msg += \u001b[33mf\u001b[39m\u001b[33m'\u001b[39m\u001b[33m on line \u001b[39m\u001b[38;5;132;01m{\u001b[39;00mlno\u001b[38;5;132;01m}\u001b[39;00m\u001b[33m'\u001b[39m\n\u001b[32m---> \u001b[39m\u001b[32m69\u001b[39m \u001b[38;5;28;01mraise\u001b[39;00m \u001b[38;5;167;01mValueError\u001b[39;00m(msg + \u001b[33mf\u001b[39m\u001b[33m'\u001b[39m\u001b[33m: \u001b[39m\u001b[38;5;132;01m{\u001b[39;00mnode\u001b[38;5;132;01m!r}\u001b[39;00m\u001b[33m'\u001b[39m)\n",
      "\u001b[31mValueError\u001b[39m: malformed node or string on line 1: <ast.BinOp object at 0x000001F0A045CBE0>"
     ]
    }
   ],
   "source": [
    "ast.literal_eval('2024-10')"
   ]
  },
  {
   "cell_type": "code",
   "execution_count": 15,
   "metadata": {},
   "outputs": [
    {
     "data": {
      "text/plain": [
       "datetime.date(2023, 10, 1)"
      ]
     },
     "execution_count": 15,
     "metadata": {},
     "output_type": "execute_result"
    }
   ],
   "source": [
    "import datetime\n",
    "datetime.datetime.strptime(x, '%Y-%m-%d').date()"
   ]
  },
  {
   "cell_type": "code",
   "execution_count": null,
   "metadata": {},
   "outputs": [],
   "source": [
    "eval"
   ]
  },
  {
   "cell_type": "code",
   "execution_count": 6,
   "metadata": {},
   "outputs": [
    {
     "data": {
      "text/plain": [
       "True"
      ]
     },
     "execution_count": 6,
     "metadata": {},
     "output_type": "execute_result"
    }
   ],
   "source": [
    "_base_llm = ChatOpenAI(model=\"gpt-4o-mini\")\n",
    "llm_with_spi_tools = _base_llm.bind_tools([spi_notebook_creation])\n",
    "\n",
    "out = llm_with_spi_tools.invoke(\n",
    "    [HumanMessage(content=\"possiamo fare un notebook per ottenere lo spi index?\")]\n",
    ")\n",
    "hasattr(out, \"tool_calls\") and len(out.tool_calls) > 0"
   ]
  },
  {
   "cell_type": "code",
   "execution_count": 9,
   "metadata": {},
   "outputs": [
    {
     "data": {
      "text/plain": [
       "False"
      ]
     },
     "execution_count": 9,
     "metadata": {},
     "output_type": "execute_result"
    }
   ],
   "source": [
    "@tool()\n",
    "def cds_temperature2(\n",
    "    location: str | list = None,\n",
    "    init_time: str = None,\n",
    "    lead_time: str = None,\n",
    "    zarr_output_file: str = None\n",
    "):\n",
    "    \"\"\"\n",
    "    Create a new Jupyter notebook to allow the user to acquire temperature forecast data from CDS (Climate Data Service).\n",
    "    Use this tool when user asks for an help with temperature data retrieving even if user does not provide region.\n",
    "    Returns the name of the notebook file.\n",
    "    \n",
    "    Args:\n",
    "        location: list of four elements representing a bounding box (min_lon, min_lat, max_lon, max_lat)\n",
    "        init_time: time representing the forecast init month. It should be in the format 'YYYY-MM'. Default is the current month.\n",
    "        lead_time: time representing the forecast lead month. It should be in the format 'YYYY-MM'. Default is six months ahead from the init_time.\n",
    "        zarr_output_file: the name of the zarr file to save the data.\n",
    "    \"\"\"\n",
    "    return 'fake-temperature-notebook.ipynb'\n",
    "\n",
    "# _base_llm = ChatOpenAI(model=\"gpt-4o-mini\")\n",
    "llm_with_cds_tools = utils._base_llm.bind_tools([cds_temperature])\n",
    "\n",
    "out = llm_with_cds_tools.invoke(\n",
    "    [HumanMessage(content=\"possiamo fare un notebook per ottenere dati di temperatura da cds?\")]\n",
    ")\n",
    "hasattr(out, \"tool_calls\") and len(out.tool_calls) > 0"
   ]
  },
  {
   "cell_type": "code",
   "execution_count": null,
   "metadata": {},
   "outputs": [],
   "source": []
  },
  {
   "cell_type": "code",
   "execution_count": null,
   "metadata": {},
   "outputs": [],
   "source": []
  },
  {
   "cell_type": "code",
   "execution_count": 67,
   "metadata": {},
   "outputs": [],
   "source": [
    "import agent"
   ]
  },
  {
   "cell_type": "code",
   "execution_count": 68,
   "metadata": {},
   "outputs": [],
   "source": [
    "from agent import graph"
   ]
  },
  {
   "cell_type": "code",
   "execution_count": 69,
   "metadata": {},
   "outputs": [
    {
     "data": {
      "image/png": "[encoded data removed]",
      "text/plain": [
       "<langgraph.graph.state.CompiledStateGraph object at 0x00000201D3D086D0>"
      ]
     },
     "execution_count": 69,
     "metadata": {},
     "output_type": "execute_result"
    }
   ],
   "source": [
    "graph"
   ]
  },
  {
   "cell_type": "code",
   "execution_count": 185,
   "metadata": {},
   "outputs": [],
   "source": [
    "# # Input\n",
    "# initial_input = {\"messages\": [{\"role\": \"user\", \"content\": \"Mi dai l'intesità di precipitazione?\"}] }\n",
    "\n",
    "# # Thread\n",
    "# thread = {\"configurable\": {\"thread_id\": \"4\"}}\n",
    "\n",
    "# # Run the graph until the first interruption\n",
    "# for event in agent.graph.stream(initial_input, thread, stream_mode=\"updates\"):\n",
    "#     print('evt: --- ', event)\n",
    "#     print(\"\\n\")"
   ]
  },
  {
   "cell_type": "code",
   "execution_count": 186,
   "metadata": {},
   "outputs": [],
   "source": [
    "# # Input\n",
    "# user_input = {\"messages\": [{\"role\": \"user\", \"content\": \"A milano il 15 sett. 2023\"}] }\n",
    "\n",
    "# # Run the graph until the first interruption\n",
    "# for event in agent.graph.stream(user_input, thread, stream_mode=\"updates\"):\n",
    "#     print('evt: --- ', event)\n",
    "#     print(\"\\n\")"
   ]
  },
  {
   "cell_type": "code",
   "execution_count": 187,
   "metadata": {},
   "outputs": [],
   "source": [
    "# from geopy.geocoders import Nominatim\n",
    "\n",
    "# def get_bounding_box(location_name):\n",
    "#     geolocator = Nominatim(user_agent=\"bounding_box_finder\")\n",
    "#     location = geolocator.geocode(location_name, exactly_one=True)\n",
    "\n",
    "#     if location and hasattr(location, 'raw'):\n",
    "#         bounding_box = location.raw.get('boundingbox', None)\n",
    "#         if bounding_box:\n",
    "#             min_lat, max_lat, min_lon, max_lon = map(float, bounding_box)\n",
    "#             return [min_lon, min_lat, max_lon, max_lat]\n",
    "    \n",
    "#     return None\n",
    "\n",
    "# get_bounding_box('Georgia, GE')"
   ]
  },
  {
   "cell_type": "code",
   "execution_count": 1,
   "metadata": {},
   "outputs": [],
   "source": [
    "import json\n",
    "from agent.utils import _base_llm"
   ]
  },
  {
   "cell_type": "code",
   "execution_count": 61,
   "metadata": {},
   "outputs": [],
   "source": [
    "out = _base_llm.invoke([\n",
    "    {\n",
    "        'role': 'system',\n",
    "        'content': \"\"\"L'utente ha fornito questa location: 'che?' . \n",
    "        Se rappresenta già una bounding box di 4 coordinate restiuiscimela in formato lista python e nient'altro.\n",
    "        Se invece rappresenta una location, restituiscimi la bounding box di quella location in formato [min_lon, min_lat, max_lon, max_lat] e nient'altro.\n",
    "        Altrimenti se non rappresenta nè una bounding box nè una location, restituisci None e nient'altro.\n",
    "        \"\"\"\n",
    "    }\n",
    "])"
   ]
  },
  {
   "cell_type": "code",
   "execution_count": 63,
   "metadata": {},
   "outputs": [
    {
     "data": {
      "text/plain": [
       "True"
      ]
     },
     "execution_count": 63,
     "metadata": {},
     "output_type": "execute_result"
    }
   ],
   "source": [
    "eval(out.content) is None"
   ]
  },
  {
   "cell_type": "code",
   "execution_count": null,
   "metadata": {},
   "outputs": [],
   "source": [
    "ipynb_json = json.load(open(r'C:\\Users\\tommaso\\AppData\\Local\\Temp\\icisk-chat\\spi_[8.4978518, 44.6799091, 11.4276477, 46.6353523]_notebook.ipynb', 'r'))\n",
    "cells = ipynb_json.get('cells', [])\n",
    "notebook_source_code = '\\n'.join(['\\n'.join(cell['source']) for cell in cells])\n",
    "\n",
    "sys_message = f\"\"\"\n",
    "    Sei un assistente di programmazione che aiuta gli utenti a scrivere codice python.\n",
    "    Ricorda che il codice è relativo ad un analisi di dati geospaziali, nel caso di richieste relative a mappe, utilizza la libreria folium oppure cartopy.\n",
    "    Ti è stato chiesto di scrivere del codice python che aggiunga una mappa che visualizzi la media nel tempo dei valori di SPI di ogni cella lat-lon.\n",
    "    Il codice prodotto deve essere aggiunto a questo codice già esistente.\n",
    "    \n",
    "    {notebook_source_code}\n",
    "    \n",
    "    Rispondi esclusivamente con righe di codice python che sia integrabile con il codice già esistente. Deve utilizzare le variabili opprtune già definite nel codice.\n",
    "    Non allegare altro testo.\n",
    "    Non produrre codice ulteriore rispetto a quello necessario per soddisfare le richieste dichiarate nel parametro code_lines.\n",
    "\"\"\"\n",
    "\n",
    "code_lines = _base_llm.invoke([{\"type\": \"system\", \"content\": sys_message}])"
   ]
  },
  {
   "cell_type": "code",
   "execution_count": 15,
   "metadata": {},
   "outputs": [
    {
     "data": {
      "text/plain": [
       "AIMessage(content=\"```python\\nimport folium\\nfrom folium import plugins\\n\\n# Calcola la media nel tempo dei valori di SPI\\nmean_spi = spi_dataset.spi.mean(dim='time')\\n\\n# Crea una mappa centrata sulla regione di interesse\\nmappa_spi = folium.Map(location=[(region[1]+region[3])/2, (region[0]+region[2])/2], zoom_start=6)\\n\\n# Aggiungi i valori di SPI sulla mappa\\nfor lat in mean_spi.lat.values:\\n    for lon in mean_spi.lon.values:\\n        value = mean_spi.sel(lat=lat, lon=lon).values\\n        folium.CircleMarker(location=[lat, lon], radius=5,\\n                            color='blue' if value >= 0 else 'red',\\n                            fill=True, fill_opacity=0.6,\\n                            popup=f'SPI: {value:.2f}').add_to(mappa_spi)\\n\\n# Mostra la mappa\\nmappa_spi\\n```\", additional_kwargs={'refusal': None}, response_metadata={'token_usage': {'completion_tokens': 203, 'prompt_tokens': 2806, 'total_tokens': 3009, 'completion_tokens_details': {'accepted_prediction_tokens': 0, 'audio_tokens': 0, 'reasoning_tokens': 0, 'rejected_prediction_tokens': 0}, 'prompt_tokens_details': {'audio_tokens': 0, 'cached_tokens': 0}}, 'model_name': 'gpt-4o-mini-2024-07-18', 'system_fingerprint': 'fp_b8bc95a0ac', 'finish_reason': 'stop', 'logprobs': None}, id='run-1815efec-6b33-416f-a0ae-f0c367f37d6f-0', usage_metadata={'input_tokens': 2806, 'output_tokens': 203, 'total_tokens': 3009, 'input_token_details': {'audio': 0, 'cache_read': 0}, 'output_token_details': {'audio': 0, 'reasoning': 0}})"
      ]
     },
     "execution_count": 15,
     "metadata": {},
     "output_type": "execute_result"
    }
   ],
   "source": [
    "code_lines"
   ]
  },
  {
   "cell_type": "code",
   "execution_count": 16,
   "metadata": {},
   "outputs": [
    {
     "name": "stdout",
     "output_type": "stream",
     "text": [
      "```python\n",
      "import folium\n",
      "from folium import plugins\n",
      "\n",
      "# Calcola la media nel tempo dei valori di SPI\n",
      "mean_spi = spi_dataset.spi.mean(dim='time')\n",
      "\n",
      "# Crea una mappa centrata sulla regione di interesse\n",
      "mappa_spi = folium.Map(location=[(region[1]+region[3])/2, (region[0]+region[2])/2], zoom_start=6)\n",
      "\n",
      "# Aggiungi i valori di SPI sulla mappa\n",
      "for lat in mean_spi.lat.values:\n",
      "    for lon in mean_spi.lon.values:\n",
      "        value = mean_spi.sel(lat=lat, lon=lon).values\n",
      "        folium.CircleMarker(location=[lat, lon], radius=5,\n",
      "                            color='blue' if value >= 0 else 'red',\n",
      "                            fill=True, fill_opacity=0.6,\n",
      "                            popup=f'SPI: {value:.2f}').add_to(mappa_spi)\n",
      "\n",
      "# Mostra la mappa\n",
      "mappa_spi\n",
      "```\n"
     ]
    }
   ],
   "source": [
    "for l in code_lines.content.split('\\n'):\n",
    "    print(l)"
   ]
  },
  {
   "cell_type": "code",
   "execution_count": 17,
   "metadata": {},
   "outputs": [
    {
     "name": "stdout",
     "output_type": "stream",
     "text": [
      "import folium\n",
      "from folium import plugins\n",
      "\n",
      "# Calcola la media nel tempo dei valori di SPI\n",
      "mean_spi = spi_dataset.spi.mean(dim='time')\n",
      "\n",
      "# Crea una mappa centrata sulla regione di interesse\n",
      "mappa_spi = folium.Map(location=[(region[1]+region[3])/2, (region[0]+region[2])/2], zoom_start=6)\n",
      "\n",
      "# Aggiungi i valori di SPI sulla mappa\n",
      "for lat in mean_spi.lat.values:\n",
      "    for lon in mean_spi.lon.values:\n",
      "        value = mean_spi.sel(lat=lat, lon=lon).values\n",
      "        folium.CircleMarker(location=[lat, lon], radius=5,\n",
      "                            color='blue' if value >= 0 else 'red',\n",
      "                            fill=True, fill_opacity=0.6,\n",
      "                            popup=f'SPI: {value:.2f}').add_to(mappa_spi)\n",
      "\n",
      "# Mostra la mappa\n",
      "mappa_spi\n"
     ]
    }
   ],
   "source": [
    "import re\n",
    "\n",
    "def clean_code_block(text):\n",
    "    \"\"\"Rimuove eventuali delimitatori di codice markdown (``` e ```python) da un blocco di codice.\"\"\"\n",
    "    return re.sub(r\"^```(?:python)?\\n|\\n```$\", \"\", text, flags=re.MULTILINE)\n",
    "\n",
    "# Esempio di utilizzo\n",
    "code_block = \"\"\"```python\n",
    "import folium\n",
    "from folium import plugins\n",
    "\n",
    "# Calcola la media nel tempo dei valori di SPI\n",
    "mean_spi = spi_dataset.spi.mean(dim='time')\n",
    "\n",
    "# Crea una mappa centrata sulla regione di interesse\n",
    "mappa_spi = folium.Map(location=[(region[1]+region[3])/2, (region[0]+region[2])/2], zoom_start=6)\n",
    "\n",
    "# Aggiungi i valori di SPI sulla mappa\n",
    "for lat in mean_spi.lat.values:\n",
    "    for lon in mean_spi.lon.values:\n",
    "        value = mean_spi.sel(lat=lat, lon=lon).values\n",
    "        folium.CircleMarker(location=[lat, lon], radius=5,\n",
    "                            color='blue' if value >= 0 else 'red',\n",
    "                            fill=True, fill_opacity=0.6,\n",
    "                            popup=f'SPI: {value:.2f}').add_to(mappa_spi)\n",
    "\n",
    "# Mostra la mappa\n",
    "mappa_spi\n",
    "```\"\"\"\n",
    "\n",
    "cleaned_code = clean_code_block(code_block)\n",
    "print(cleaned_code)\n"
   ]
  },
  {
   "cell_type": "code",
   "execution_count": null,
   "metadata": {},
   "outputs": [],
   "source": []
  },
  {
   "cell_type": "code",
   "execution_count": 233,
   "metadata": {},
   "outputs": [],
   "source": [
    "state = {\n",
    "  \"values\": {\n",
    "    \"messages\": [\n",
    "      {\n",
    "        \"content\": \"SPI per la lombardia\",\n",
    "        \"additional_kwargs\": {},\n",
    "        \"response_metadata\": {},\n",
    "        \"type\": \"human\",\n",
    "        \"name\": None,\n",
    "        \"id\": \"2b6e218e-b24a-4bb3-81e7-87b8faeed25c\",\n",
    "        \"example\": False\n",
    "      },\n",
    "      {\n",
    "        \"content\": \"\\n            L'utente a rihiesto di eseguire il tool spi_notebook_creation con  questi argomenti:\\n            - region: Lombardia\\n            - reference_period: NULL\\n            - period_of_interest: NULL\\n            Non ha specificato il periodo di riferimento. Chiedigli se vuole usare l'intervallo 1980-2010 di deafult oppure preferisce specificarlo.\\n        \",\n",
    "        \"additional_kwargs\": {},\n",
    "        \"response_metadata\": {},\n",
    "        \"type\": \"system\",\n",
    "        \"name\": None,\n",
    "        \"id\": \"4e1e850c-a399-4642-90d8-098b4b6e2bdc\"\n",
    "      },\n",
    "      {\n",
    "        \"content\": \"Per calcolare lo Standardized Precipitation Index (SPI) per la Lombardia, possiamo utilizzare l'intervallo di riferimento predefinito 1981-2010, oppure posso chiedere all'utente di specificare un periodo diverso. Cosa preferisci?\",\n",
    "        \"additional_kwargs\": {},\n",
    "        \"response_metadata\": {\n",
    "          \"finish_reason\": \"stop\",\n",
    "          \"model_name\": \"gpt-3.5-turbo-0125\"\n",
    "        },\n",
    "        \"type\": \"ai\",\n",
    "        \"name\": None,\n",
    "        \"id\": \"run-416b31ae-fd78-436c-99ab-31feed64dc4d\",\n",
    "        \"example\": False,\n",
    "        \"tool_calls\": [],\n",
    "        \"invalid_tool_calls\": [],\n",
    "        \"usage_metadata\": None\n",
    "      },\n",
    "      {\n",
    "        \"content\": \"ok quello di default\",\n",
    "        \"additional_kwargs\": {},\n",
    "        \"response_metadata\": {},\n",
    "        \"type\": \"human\",\n",
    "        \"name\": None,\n",
    "        \"id\": \"6c0aae96-aef7-462f-bcf9-78b2a7a1918d\",\n",
    "        \"example\": False\n",
    "      },\n",
    "      {\n",
    "        \"content\": \"\\n            L'utente a rihiesto di eseguire il tool spi_notebook_creation con  questi argomenti:\\n            - region: Lombardia\\n            - reference_period: [1981, 2010]\\n            - period_of_interest: NULL\\n            Non ha specificato il periodo di interesse. Chiedigli se vuole usare l'intervallo di default (il mese precedente alla data corrente) oppure preferisce specificarlo.\\n        \",\n",
    "        \"additional_kwargs\": {},\n",
    "        \"response_metadata\": {},\n",
    "        \"type\": \"system\",\n",
    "        \"name\": None,\n",
    "        \"id\": \"353f9bf2-8dae-4332-bda7-69782134d950\"\n",
    "      },\n",
    "      {\n",
    "        \"content\": \"Per calcolare lo Standardized Precipitation Index (SPI) per la Lombardia utilizzando l'intervallo di riferimento 1981-2010, possiamo procedere con l'analisi per il periodo di interesse predefinito, che è il mese precedente alla data corrente. Se desideri utilizzare un periodo di interesse diverso, per favore specifica le date di inizio e fine del periodo desiderato.\",\n",
    "        \"additional_kwargs\": {},\n",
    "        \"response_metadata\": {\n",
    "          \"finish_reason\": \"stop\",\n",
    "          \"model_name\": \"gpt-3.5-turbo-0125\"\n",
    "        },\n",
    "        \"type\": \"ai\",\n",
    "        \"name\": None,\n",
    "        \"id\": \"run-0a90d810-39df-4e21-9872-0735012e749f\",\n",
    "        \"example\": False,\n",
    "        \"tool_calls\": [],\n",
    "        \"invalid_tool_calls\": [],\n",
    "        \"usage_metadata\": None\n",
    "      },\n",
    "      {\n",
    "        \"content\": \"faciamo il mese scorso\",\n",
    "        \"additional_kwargs\": {},\n",
    "        \"response_metadata\": {},\n",
    "        \"type\": \"human\",\n",
    "        \"name\": None,\n",
    "        \"id\": \"402144fc-696f-4e95-b89f-ab814348f401\",\n",
    "        \"example\": False\n",
    "      },\n",
    "      {\n",
    "        \"content\": \"\\n                    L'utente a rihiesto di eseguire il tool spi_notebook_creation con  questi argomenti:\\n                    - region: [8.4978518, 44.6799091, 11.4276477, 46.6353523]\\n                    - reference_period: [1981, 2010]\\n                    - period_of_interest: ['2023-10', '2023-10']\\n                    Per l'argomento region è stata ricavata questa bounding box: [8.4978518, 44.6799091, 11.4276477, 46.6353523]. Chiedi all'utente se è corretta oppure se vuole modificarla.\\n                \",\n",
    "        \"additional_kwargs\": {},\n",
    "        \"response_metadata\": {},\n",
    "        \"type\": \"system\",\n",
    "        \"name\": None,\n",
    "        \"id\": \"d80199e0-16ae-4308-ad2e-905b3fb03479\"\n",
    "      },\n",
    "      {\n",
    "        \"content\": \"La bounding box ricavata per la regione della Lombardia è la seguente: [8.4978518, 44.6799091, 11.4276477, 46.6353523]. È corretta o desideri apportare delle modifiche?\",\n",
    "        \"additional_kwargs\": {},\n",
    "        \"response_metadata\": {\n",
    "          \"finish_reason\": \"stop\",\n",
    "          \"model_name\": \"gpt-3.5-turbo-0125\"\n",
    "        },\n",
    "        \"type\": \"ai\",\n",
    "        \"name\": None,\n",
    "        \"id\": \"run-ca136595-e11d-4efe-91e4-05fc1f0ca286\",\n",
    "        \"example\": False,\n",
    "        \"tool_calls\": [],\n",
    "        \"invalid_tool_calls\": [],\n",
    "        \"usage_metadata\": None\n",
    "      },\n",
    "      {\n",
    "        \"content\": \"va bene quella!\",\n",
    "        \"additional_kwargs\": {},\n",
    "        \"response_metadata\": {},\n",
    "        \"type\": \"human\",\n",
    "        \"name\": None,\n",
    "        \"id\": \"68b13b58-947c-42b6-9969-2319114338a3\",\n",
    "        \"example\": False\n",
    "      }\n",
    "    #   {\n",
    "    #     \"content\": \"\",\n",
    "    #     \"additional_kwargs\": {\n",
    "    #       \"tool_calls\": [\n",
    "    #         {\n",
    "    #           \"index\": 0,\n",
    "    #           \"id\": \"call_1NXmr6nR8PMElNqMO5VSls3Z\",\n",
    "    #           \"function\": {\n",
    "    #             \"arguments\": \"{\\\"region\\\":[8.4978518,44.6799091,11.4276477,46.6353523],\\\"reference_period\\\":[1981,2010],\\\"period_of_interest\\\":[\\\"2023-10\\\",\\\"2023-10\\\"]}\",\n",
    "    #             \"name\": \"spi_notebook_creation\"\n",
    "    #           },\n",
    "    #           \"type\": \"function\"\n",
    "    #         }\n",
    "    #       ]\n",
    "    #     },\n",
    "    #     \"response_metadata\": {\n",
    "    #       \"finish_reason\": \"tool_calls\",\n",
    "    #       \"model_name\": \"gpt-3.5-turbo-0125\"\n",
    "    #     },\n",
    "    #     \"type\": \"ai\",\n",
    "    #     \"name\": None,\n",
    "    #     \"id\": \"run-c777286d-7494-460d-abf2-73701f9bdbc4\",\n",
    "    #     \"example\": False,\n",
    "    #     \"tool_calls\": [\n",
    "    #       {\n",
    "    #         \"name\": \"spi_notebook_creation\",\n",
    "    #         \"args\": {\n",
    "    #           \"region\": [\n",
    "    #             8.4978518,\n",
    "    #             44.6799091,\n",
    "    #             11.4276477,\n",
    "    #             46.6353523\n",
    "    #           ],\n",
    "    #           \"reference_period\": [\n",
    "    #             1981,\n",
    "    #             2010\n",
    "    #           ],\n",
    "    #           \"period_of_interest\": [\n",
    "    #             \"2023-10\",\n",
    "    #             \"2023-10\"\n",
    "    #           ]\n",
    "    #         },\n",
    "    #         \"id\": \"call_1NXmr6nR8PMElNqMO5VSls3Z\",\n",
    "    #         \"type\": \"tool_call\"\n",
    "    #       }\n",
    "    #     ],\n",
    "    #     \"invalid_tool_calls\": [],\n",
    "    #     \"usage_metadata\": None\n",
    "    #   },\n",
    "    #   {\n",
    "    #     \"content\": \"C:\\\\Users\\\\tommaso\\\\AppData\\\\Local\\\\Temp\\\\icisk-chat\\\\spi_[8.4978518, 44.6799091, 11.4276477, 46.6353523]_notebook.ipynb\",\n",
    "    #     \"additional_kwargs\": {},\n",
    "    #     \"response_metadata\": {},\n",
    "    #     \"type\": \"tool\",\n",
    "    #     \"name\": \"spi_notebook_creation\",\n",
    "    #     \"id\": \"894a84ae-d9b2-4c9b-acb7-444274a7cd12\",\n",
    "    #     \"tool_call_id\": \"call_1NXmr6nR8PMElNqMO5VSls3Z\",\n",
    "    #     \"artifact\": None,\n",
    "    #     \"status\": \"success\"\n",
    "    #   },\n",
    "    #   {\n",
    "    #     \"content\": \"Ho creato con successo un nuovo notebook Jupyter per calcolare lo Standardized Precipitation Index (SPI) per la Lombardia con l'intervallo di riferimento 1981-2010 e il mese di interesse ottobre 2023. Puoi scaricare il notebook dal seguente percorso:\\n\\n[saved notebook](C:\\\\Users\\\\tommaso\\\\AppData\\\\Local\\\\Temp\\\\icisk-chat\\\\spi_[8.4978518, 44.6799091, 11.4276477, 46.6353523]_notebook.ipynb)\",\n",
    "    #     \"additional_kwargs\": {},\n",
    "    #     \"response_metadata\": {\n",
    "    #       \"finish_reason\": \"stop\",\n",
    "    #       \"model_name\": \"gpt-3.5-turbo-0125\"\n",
    "    #     },\n",
    "    #     \"type\": \"ai\",\n",
    "    #     \"name\": None,\n",
    "    #     \"id\": \"run-65126b67-0c85-467a-bb29-44c7b50d05fe\",\n",
    "    #     \"example\": False,\n",
    "    #     \"tool_calls\": [],\n",
    "    #     \"invalid_tool_calls\": [],\n",
    "    #     \"usage_metadata\": None\n",
    "    #   }\n",
    "    ]\n",
    "  },\n",
    "  \"next\": [],\n",
    "  \"tasks\": [],\n",
    "  \"metadata\": {\n",
    "    \"x-auth-scheme\": \"langsmith\",\n",
    "    \"langgraph_auth_user\": None,\n",
    "    \"langgraph_auth_user_id\": \"\",\n",
    "    \"langgraph_auth_permissions\": [],\n",
    "    \"thread_ts\": \"1f004cb6-802f-683b-800d-5d93bb40fa32\",\n",
    "    \"graph_id\": \"agent\",\n",
    "    \"assistant_id\": \"fe096781-5601-53d2-b2f6-0d3403f7e9ca\",\n",
    "    \"user_id\": \"\",\n",
    "    \"created_by\": \"system\",\n",
    "    \"from_studio\": True,\n",
    "    \"run_attempt\": 1,\n",
    "    \"langgraph_version\": \"0.3.10\",\n",
    "    \"langgraph_plan\": \"developer\",\n",
    "    \"langgraph_host\": \"self-hosted\",\n",
    "    \"thread_id\": \"41bd84db-92c5-49d8-bcd8-38bde2590c15\",\n",
    "    \"checkpoint_id\": \"1f004cb6-802f-683b-800d-5d93bb40fa32\",\n",
    "    \"run_id\": \"1f004cb7-c394-6ef4-acac-d6d7ad6424b6\",\n",
    "    \"source\": \"loop\",\n",
    "    \"writes\": {\n",
    "      \"chatbot\": {\n",
    "        \"messages\": [\n",
    "          {\n",
    "            \"content\": \"Ho creato con successo un nuovo notebook Jupyter per calcolare lo Standardized Precipitation Index (SPI) per la Lombardia con l'intervallo di riferimento 1981-2010 e il mese di interesse ottobre 2023. Puoi scaricare il notebook dal seguente percorso:\\n\\n[saved notebook](C:\\\\Users\\\\tommaso\\\\AppData\\\\Local\\\\Temp\\\\icisk-chat\\\\spi_[8.4978518, 44.6799091, 11.4276477, 46.6353523]_notebook.ipynb)\",\n",
    "            \"additional_kwargs\": {},\n",
    "            \"response_metadata\": {\n",
    "              \"finish_reason\": \"stop\",\n",
    "              \"model_name\": \"gpt-3.5-turbo-0125\"\n",
    "            },\n",
    "            \"type\": \"ai\",\n",
    "            \"name\": None,\n",
    "            \"id\": \"run-65126b67-0c85-467a-bb29-44c7b50d05fe\",\n",
    "            \"example\": False,\n",
    "            \"tool_calls\": [],\n",
    "            \"invalid_tool_calls\": [],\n",
    "            \"usage_metadata\": None\n",
    "          }\n",
    "        ]\n",
    "      }\n",
    "    },\n",
    "    \"step\": 19,\n",
    "    \"parents\": {}\n",
    "  },\n",
    "  \"created_at\": \"2025-03-19T14:07:29.602452+00:00\",\n",
    "  \"checkpoint\": {\n",
    "    \"checkpoint_id\": \"1f004cb7-e855-63ca-8013-1c67426aac11\",\n",
    "    \"thread_id\": \"41bd84db-92c5-49d8-bcd8-38bde2590c15\",\n",
    "    \"checkpoint_ns\": \"\"\n",
    "  },\n",
    "  \"parent_checkpoint\": {\n",
    "    \"checkpoint_id\": \"1f004cb7-d7b0-60d4-8012-6b96367ffd7e\",\n",
    "    \"thread_id\": \"41bd84db-92c5-49d8-bcd8-38bde2590c15\",\n",
    "    \"checkpoint_ns\": \"\"\n",
    "  },\n",
    "  \"checkpoint_id\": \"1f004cb7-e855-63ca-8013-1c67426aac11\",\n",
    "  \"parent_checkpoint_id\": \"1f004cb7-d7b0-60d4-8012-6b96367ffd7e\"\n",
    "}\n",
    "\n",
    "msgs = state['values']['messages']"
   ]
  },
  {
   "cell_type": "code",
   "execution_count": null,
   "metadata": {},
   "outputs": [
    {
     "data": {
      "text/plain": [
       "''"
      ]
     },
     "execution_count": 234,
     "metadata": {},
     "output_type": "execute_result"
    }
   ],
   "source": [
    "need_confirm_msg = \"\"\"\n",
    "    L'utente a rihiesto di eseguire il tool spi_notebook_creation con questi argomenti:\n",
    "    - region: [8.4978518,44.6799091,11.4276477,46.6353523]\n",
    "    - reference_period: [1981,2010]\n",
    "    - period_of_interest: [\"2023-10\",\"2023-10\"]\n",
    "    Non eseguire la chimata. Chiedi all'utente se i parametri sono corretti.\n",
    "\"\"\"\n",
    "\n",
    "msgs.append({'type': 'system', 'content': need_confirm_msg})\n",
    "\n",
    "asked_confirm = _base_llm.invoke(msgs)\n",
    "asked_confirm.content"
   ]
  },
  {
   "cell_type": "code",
   "execution_count": null,
   "metadata": {},
   "outputs": [
    {
     "data": {
      "text/plain": [
       "''"
      ]
     },
     "execution_count": 221,
     "metadata": {},
     "output_type": "execute_result"
    }
   ],
   "source": [
    "confirm_msg = \"\"\"\n",
    "   No aspetta\n",
    "\"\"\"\n",
    "msgs.append({'type': 'human', 'content': confirm_msg})\n",
    "\n",
    "confirm = _base_llm.invoke(msgs)\n",
    "confirm.content"
   ]
  },
  {
   "cell_type": "code",
   "execution_count": 222,
   "metadata": {},
   "outputs": [
    {
     "data": {
      "text/plain": [
       "AIMessage(content='', additional_kwargs={'tool_calls': [{'id': 'call_iSnKyTZtoZasHUFUYYprign3', 'function': {'arguments': '{\"region\":[8.4978518,44.6799091,11.4276477,46.6353523],\"reference_period\":[1981,2010],\"period_of_interest\":[\"2023-10\",\"2023-10\"]}', 'name': 'spi_notebook_creation'}, 'type': 'function'}], 'refusal': None}, response_metadata={'token_usage': {'completion_tokens': 62, 'prompt_tokens': 1102, 'total_tokens': 1164, 'completion_tokens_details': {'accepted_prediction_tokens': 0, 'audio_tokens': 0, 'reasoning_tokens': 0, 'rejected_prediction_tokens': 0}, 'prompt_tokens_details': {'audio_tokens': 0, 'cached_tokens': 0}}, 'model_name': 'gpt-3.5-turbo-0125', 'system_fingerprint': None, 'finish_reason': 'tool_calls', 'logprobs': None}, id='run-6b11f1e7-74c8-4241-8897-3ab6a9a0a6aa-0', tool_calls=[{'name': 'spi_notebook_creation', 'args': {'region': [8.4978518, 44.6799091, 11.4276477, 46.6353523], 'reference_period': [1981, 2010], 'period_of_interest': ['2023-10', '2023-10']}, 'id': 'call_iSnKyTZtoZasHUFUYYprign3', 'type': 'tool_call'}], usage_metadata={'input_tokens': 1102, 'output_tokens': 62, 'total_tokens': 1164, 'input_token_details': {'audio': 0, 'cache_read': 0}, 'output_token_details': {'audio': 0, 'reasoning': 0}})"
      ]
     },
     "execution_count": 222,
     "metadata": {},
     "output_type": "execute_result"
    }
   ],
   "source": [
    "confirm"
   ]
  }
 ],
 "metadata": {
  "kernelspec": {
   "display_name": "venv",
   "language": "python",
   "name": "python3"
  },
  "language_info": {
   "codemirror_mode": {
    "name": "ipython",
    "version": 3
   },
   "file_extension": ".py",
   "mimetype": "text/x-python",
   "name": "python",
   "nbconvert_exporter": "python",
   "pygments_lexer": "ipython3",
   "version": "3.11.0"
  }
 },
 "nbformat": 4,
 "nbformat_minor": 2
}
