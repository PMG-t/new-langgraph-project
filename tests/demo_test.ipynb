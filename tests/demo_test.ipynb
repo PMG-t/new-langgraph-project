{
 "cells": [
  {
   "cell_type": "code",
   "execution_count": 1,
   "metadata": {},
   "outputs": [],
   "source": [
    "import agent"
   ]
  },
  {
   "cell_type": "code",
   "execution_count": 2,
   "metadata": {},
   "outputs": [
    {
     "name": "stdout",
     "output_type": "stream",
     "text": [
      "evt: ---  {'chatbot': {'messages': [AIMessage(content='', additional_kwargs={'tool_calls': [{'id': 'call_vPa36nelsxoiOh6441K5sFp8', 'function': {'arguments': '{}', 'name': 'demo_get_precipitation_data'}, 'type': 'function'}], 'refusal': None}, response_metadata={'token_usage': {'completion_tokens': 15, 'prompt_tokens': 129, 'total_tokens': 144, 'completion_tokens_details': {'accepted_prediction_tokens': 0, 'audio_tokens': 0, 'reasoning_tokens': 0, 'rejected_prediction_tokens': 0}, 'prompt_tokens_details': {'audio_tokens': 0, 'cached_tokens': 0}}, 'model_name': 'gpt-3.5-turbo-0125', 'system_fingerprint': None, 'finish_reason': 'tool_calls', 'logprobs': None}, id='run-bd6af023-7b6b-443e-8c3d-ef34d064277f-0', tool_calls=[{'name': 'demo_get_precipitation_data', 'args': {}, 'id': 'call_vPa36nelsxoiOh6441K5sFp8', 'type': 'tool_call'}], usage_metadata={'input_tokens': 129, 'output_tokens': 15, 'total_tokens': 144, 'input_token_details': {'audio': 0, 'cache_read': 0}, 'output_token_details': {'audio': 0, 'reasoning': 0}})]}}\n",
      "\n",
      "\n",
      "evt: ---  {'demo_get_precipitation_data_tool_validator': {'messages': [RemoveMessage(content='', additional_kwargs={}, response_metadata={}, id='run-bd6af023-7b6b-443e-8c3d-ef34d064277f-0'), {'role': 'system', 'content': \"L'utente a rihiesto di eseguire il tool demo_get_precipitation_data ma non ha specificato nè la location nè la data. Chiedigliele.\"}]}}\n",
      "\n",
      "\n",
      "evt: ---  {'chatbot': {'messages': [AIMessage(content=\"Per fornirti l'intensità di precipitazione, ho bisogno di alcune informazioni aggiuntive. Potresti per favore fornirmi la località e la data di cui desideri conoscere l'intensità della precipitazione?\", additional_kwargs={'refusal': None}, response_metadata={'token_usage': {'completion_tokens': 59, 'prompt_tokens': 173, 'total_tokens': 232, 'completion_tokens_details': {'accepted_prediction_tokens': 0, 'audio_tokens': 0, 'reasoning_tokens': 0, 'rejected_prediction_tokens': 0}, 'prompt_tokens_details': {'audio_tokens': 0, 'cached_tokens': 0}}, 'model_name': 'gpt-3.5-turbo-0125', 'system_fingerprint': None, 'finish_reason': 'stop', 'logprobs': None}, id='run-847b232b-f680-4d68-9329-ed65138afdd6-0', usage_metadata={'input_tokens': 173, 'output_tokens': 59, 'total_tokens': 232, 'input_token_details': {'audio': 0, 'cache_read': 0}, 'output_token_details': {'audio': 0, 'reasoning': 0}})]}}\n",
      "\n",
      "\n"
     ]
    }
   ],
   "source": [
    "# Input\n",
    "initial_input = {\"messages\": [{\"role\": \"user\", \"content\": \"Mi dai l'intesità di precipitazione?\"}] }\n",
    "\n",
    "# Thread\n",
    "thread = {\"configurable\": {\"thread_id\": \"4\"}}\n",
    "\n",
    "# Run the graph until the first interruption\n",
    "for event in agent.graph.stream(initial_input, thread, stream_mode=\"updates\"):\n",
    "    print('evt: --- ', event)\n",
    "    print(\"\\n\")"
   ]
  },
  {
   "cell_type": "code",
   "execution_count": 3,
   "metadata": {},
   "outputs": [
    {
     "name": "stdout",
     "output_type": "stream",
     "text": [
      "evt: ---  {'chatbot': {'messages': [AIMessage(content='', additional_kwargs={'tool_calls': [{'id': 'call_ld7zlamtgX4FmWYFiXBMxAFz', 'function': {'arguments': '{\"location\":\"Milano\",\"date\":\"2023-09-15\"}', 'name': 'demo_get_precipitation_data'}, 'type': 'function'}], 'refusal': None}, response_metadata={'token_usage': {'completion_tokens': 29, 'prompt_tokens': 248, 'total_tokens': 277, 'completion_tokens_details': {'accepted_prediction_tokens': 0, 'audio_tokens': 0, 'reasoning_tokens': 0, 'rejected_prediction_tokens': 0}, 'prompt_tokens_details': {'audio_tokens': 0, 'cached_tokens': 0}}, 'model_name': 'gpt-3.5-turbo-0125', 'system_fingerprint': None, 'finish_reason': 'tool_calls', 'logprobs': None}, id='run-d3caa9c8-ba74-4e14-a05b-945301213693-0', tool_calls=[{'name': 'demo_get_precipitation_data', 'args': {'location': 'Milano', 'date': '2023-09-15'}, 'id': 'call_ld7zlamtgX4FmWYFiXBMxAFz', 'type': 'tool_call'}], usage_metadata={'input_tokens': 248, 'output_tokens': 29, 'total_tokens': 277, 'input_token_details': {'audio': 0, 'cache_read': 0}, 'output_token_details': {'audio': 0, 'reasoning': 0}})]}}\n",
      "\n",
      "\n",
      "evt: ---  {'demo_get_precipitation_data_tool_validator': None}\n",
      "\n",
      "\n",
      "evt: ---  {'demo_get_precipitation_data_tool_runner': {'messages': [{'role': 'tool', 'name': 'demo_get_precipitation_data', 'content': 21, 'tool_call_id': 'call_ld7zlamtgX4FmWYFiXBMxAFz'}]}}\n",
      "\n",
      "\n",
      "evt: ---  {'chatbot': {'messages': [AIMessage(content=\"L'intensità di precipitazione a Milano il 15 settembre 2023 è di 21 millimetri per ora.\", additional_kwargs={'refusal': None}, response_metadata={'token_usage': {'completion_tokens': 31, 'prompt_tokens': 289, 'total_tokens': 320, 'completion_tokens_details': {'accepted_prediction_tokens': 0, 'audio_tokens': 0, 'reasoning_tokens': 0, 'rejected_prediction_tokens': 0}, 'prompt_tokens_details': {'audio_tokens': 0, 'cached_tokens': 0}}, 'model_name': 'gpt-3.5-turbo-0125', 'system_fingerprint': None, 'finish_reason': 'stop', 'logprobs': None}, id='run-ff5a118b-d386-42a3-add0-aa2f859d0a19-0', usage_metadata={'input_tokens': 289, 'output_tokens': 31, 'total_tokens': 320, 'input_token_details': {'audio': 0, 'cache_read': 0}, 'output_token_details': {'audio': 0, 'reasoning': 0}})]}}\n",
      "\n",
      "\n"
     ]
    }
   ],
   "source": [
    "# Input\n",
    "user_input = {\"messages\": [{\"role\": \"user\", \"content\": \"A milano il 15 sett. 2023\"}] }\n",
    "\n",
    "# Run the graph until the first interruption\n",
    "for event in agent.graph.stream(user_input, thread, stream_mode=\"updates\"):\n",
    "    print('evt: --- ', event)\n",
    "    print(\"\\n\")"
   ]
  }
 ],
 "metadata": {
  "kernelspec": {
   "display_name": "venv",
   "language": "python",
   "name": "python3"
  },
  "language_info": {
   "codemirror_mode": {
    "name": "ipython",
    "version": 3
   },
   "file_extension": ".py",
   "mimetype": "text/x-python",
   "name": "python",
   "nbconvert_exporter": "python",
   "pygments_lexer": "ipython3",
   "version": "3.11.0"
  }
 },
 "nbformat": 4,
 "nbformat_minor": 2
}
